{
 "cells": [
  {
   "cell_type": "code",
   "execution_count": 1,
   "metadata": {},
   "outputs": [],
   "source": [
    "   # Import required libraries\n",
    "import pandas as pd\n",
    "import plotly.graph_objects as go\n",
    "import plotly.express as px\n",
    "import dash\n",
    "from dash import dcc\n",
    "from dash import html\n",
    "from dash.dependencies import Input, Output\n",
    "   # Read the airline data into pandas dataframe\n",
    "airline_data =  pd.read_csv('https://cf-courses-data.s3.us.cloud-object-storage.appdomain.cloud/IBMDeveloperSkillsNetwork-DV0101EN-SkillsNetwork/Data%20Files/airline_data.csv', \n",
    "                            encoding = \"ISO-8859-1\",\n",
    "                            dtype={'Div1Airport': str, 'Div1TailNum': str, \n",
    "                                   'Div2Airport': str, 'Div2TailNum': str})"
   ]
  },
  {
   "cell_type": "code",
   "execution_count": 5,
   "metadata": {},
   "outputs": [
    {
     "data": {
      "text/html": [
       "\n",
       "        <iframe\n",
       "            width=\"100%\"\n",
       "            height=\"650\"\n",
       "            src=\"http://127.0.0.1:8050/\"\n",
       "            frameborder=\"0\"\n",
       "            allowfullscreen\n",
       "            \n",
       "        ></iframe>\n",
       "        "
      ],
      "text/plain": [
       "<IPython.lib.display.IFrame at 0x7b444b4274d0>"
      ]
     },
     "metadata": {},
     "output_type": "display_data"
    }
   ],
   "source": [
    "app=dash.Dash(__name__)\n",
    "\n",
    "app.layout=html.Div(children=[\n",
    "    html.H1('Airline Analysis',style={'textAlign':'center','font-size':40}),\n",
    "    html.Div(['input-year:',dcc.Input(id='input-year',type='number',value='2010')],\n",
    "             style={'text-align':'center'}),\n",
    "    html.Br(),\n",
    "    html.Br(),\n",
    "    html.Div(dcc.Graph(id='bar-plot'))\n",
    "\n",
    "])\n",
    "\n",
    "@app.callback(Output(component_id='bar-plot',component_property='figure'),\n",
    "              Input(component_id='input-year',component_property='value'))\n",
    "\n",
    "def get_graph(entered_year):\n",
    "    df=airline_data[airline_data['Year']==int(entered_year)]\n",
    "    bar_data=df.groupby('DestState')['Flights'].sum().reset_index()\n",
    "    fig=px.bar(bar_data,x='DestState',y='Flights',title='Total number of flights')\n",
    "    return fig\n",
    "\n",
    "if __name__=='__main__':\n",
    "    app.run_server()\n"
   ]
  },
  {
   "cell_type": "code",
   "execution_count": 2,
   "metadata": {},
   "outputs": [
    {
     "data": {
      "text/plain": [
       "0        1998\n",
       "1        2013\n",
       "2        1993\n",
       "3        1994\n",
       "4        2017\n",
       "         ... \n",
       "26995    2017\n",
       "26996    2013\n",
       "26997    2016\n",
       "26998    2009\n",
       "26999    1993\n",
       "Name: Year, Length: 27000, dtype: int64"
      ]
     },
     "execution_count": 2,
     "metadata": {},
     "output_type": "execute_result"
    }
   ],
   "source": [
    "airline_data['Year']"
   ]
  },
  {
   "cell_type": "code",
   "execution_count": null,
   "metadata": {},
   "outputs": [],
   "source": []
  }
 ],
 "metadata": {
  "kernelspec": {
   "display_name": "muruga",
   "language": "python",
   "name": "python3"
  },
  "language_info": {
   "codemirror_mode": {
    "name": "ipython",
    "version": 3
   },
   "file_extension": ".py",
   "mimetype": "text/x-python",
   "name": "python",
   "nbconvert_exporter": "python",
   "pygments_lexer": "ipython3",
   "version": "3.13.2"
  }
 },
 "nbformat": 4,
 "nbformat_minor": 2
}
